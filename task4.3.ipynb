{
 "cells": [
  {
   "cell_type": "code",
   "execution_count": null,
   "id": "2ea68664",
   "metadata": {},
   "outputs": [],
   "source": [
    "# Task 3: Take 2 image and combine it to form single image. For example collage "
   ]
  },
  {
   "cell_type": "code",
   "execution_count": 1,
   "id": "b18d7f7c",
   "metadata": {},
   "outputs": [],
   "source": [
    "import numpy as np\n",
    "import cv2"
   ]
  },
  {
   "cell_type": "code",
   "execution_count": 2,
   "id": "72349209",
   "metadata": {},
   "outputs": [
    {
     "output_type": "execute_result",
     "data": {
      "text/plain": [
       "(500, 500, 3)"
      ]
     },
     "metadata": {},
     "execution_count": 2
    }
   ],
   "source": [
    "first = cv2.imread(\"1.jpg\")\n",
    "cv2.imshow(\"first\",first)\n",
    "cv2.waitKey()\n",
    "cv2.destroyAllWindows()\n",
    "first.shape"
   ]
  },
  {
   "cell_type": "code",
   "execution_count": 3,
   "id": "65441855",
   "metadata": {},
   "outputs": [
    {
     "output_type": "execute_result",
     "data": {
      "text/plain": [
       "(500, 500, 3)"
      ]
     },
     "metadata": {},
     "execution_count": 3
    }
   ],
   "source": [
    "second = cv2.imread(\"2.jpg\")\n",
    "cv2.imshow(\"second\",second)\n",
    "cv2.waitKey()\n",
    "cv2.destroyAllWindows()\n",
    "second.shape"
   ]
  },
  {
   "cell_type": "code",
   "execution_count": 4,
   "id": "3d245b07",
   "metadata": {},
   "outputs": [],
   "source": [
    "res = np.concatenate((first,second),axis=1)"
   ]
  },
  {
   "cell_type": "code",
   "execution_count": 5,
   "id": "88812ed2",
   "metadata": {},
   "outputs": [],
   "source": [
    "cv2.imshow(\"Res\",res)\n",
    "cv2.waitKey()\n",
    "cv2.destroyAllWindows()"
   ]
  }
 ],
 "metadata": {
  "kernelspec": {
   "name": "python385jvsc74a57bd0b3ba2566441a7c06988d0923437866b63cedc61552a5af99d1f4fb67d367b25f",
   "display_name": "Python 3.8.5 64-bit ('base': conda)"
  },
  "language_info": {
   "codemirror_mode": {
    "name": "ipython",
    "version": 3
   },
   "file_extension": ".py",
   "mimetype": "text/x-python",
   "name": "python",
   "nbconvert_exporter": "python",
   "pygments_lexer": "ipython3",
   "version": "3.8.5"
  }
 },
 "nbformat": 4,
 "nbformat_minor": 5
}