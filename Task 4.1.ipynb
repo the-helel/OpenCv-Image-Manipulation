{
 "cells": [
  {
   "cell_type": "code",
   "execution_count": null,
   "id": "20c4ea84",
   "metadata": {},
   "outputs": [],
   "source": [
    "#Task-4.1 : Create image by yourself using python code "
   ]
  },
  {
   "cell_type": "code",
   "execution_count": null,
   "id": "cdd33a5b",
   "metadata": {},
   "outputs": [],
   "source": [
    "#Import Modules \n",
    "import numpy \n",
    "import cv2"
   ]
  },
  {
   "cell_type": "code",
   "execution_count": null,
   "id": "fefe9d74",
   "metadata": {},
   "outputs": [],
   "source": [
    "image = numpy.zeros((600,600,3))"
   ]
  },
  {
   "cell_type": "code",
   "execution_count": null,
   "id": "22f7de7c",
   "metadata": {},
   "outputs": [],
   "source": [
    "#Creating own image\n",
    "\n",
    "Image = cv2.circle(image, (300,300), 300, [255,0,0], 3)\n",
    "Image = cv2.circle(image, (300,300), 250, [0,255,0], 3)\n",
    "Image = cv2.circle(image, (300,300), 200, [0,0,255], 3)\n",
    "Image = cv2.circle(image, (300,300), 150, [255,100,0], 3)\n",
    "Image = cv2.circle(image, (300,300), 100, [100,100,0], 3)\n",
    "Image = cv2.circle(image, (300,300), 50, [255,255,255], 3)\n",
    "Image = cv2.circle(image, (300,300), 25, [150,0,0], 3)\n",
    "\n",
    "cv2.imshow('Image',image)\n",
    "cv2.waitKey()\n",
    "cv2.destroyAllWindows()"
   ]
  }
 ],
 "metadata": {
  "kernelspec": {
   "name": "python385jvsc74a57bd0b3ba2566441a7c06988d0923437866b63cedc61552a5af99d1f4fb67d367b25f",
   "display_name": "Python 3.8.5 64-bit ('base': conda)"
  },
  "language_info": {
   "codemirror_mode": {
    "name": "ipython",
    "version": 3
   },
   "file_extension": ".py",
   "mimetype": "text/x-python",
   "name": "python",
   "nbconvert_exporter": "python",
   "pygments_lexer": "ipython3",
   "version": "3.8.5"
  },
  "metadata": {
   "interpreter": {
    "hash": "63fd5069d213b44bf678585dea6b12cceca9941eaf7f819626cde1f2670de90d"
   }
  }
 },
 "nbformat": 4,
 "nbformat_minor": 5
}