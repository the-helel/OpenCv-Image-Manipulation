{
 "cells": [
  {
   "cell_type": "code",
   "execution_count": null,
   "id": "8ce576b4",
   "metadata": {},
   "outputs": [],
   "source": [
    "# Task-2 :Take 2 image crop some part of both image and swap it. "
   ]
  },
  {
   "cell_type": "code",
   "execution_count": null,
   "id": "97cff256",
   "metadata": {},
   "outputs": [],
   "source": [
    "import numpy as np\n",
    "import cv2"
   ]
  },
  {
   "cell_type": "code",
   "execution_count": null,
   "id": "7865410d",
   "metadata": {},
   "outputs": [],
   "source": [
    "first = cv2.imread(\"1.jpg\")\n",
    "cv2.imshow(\"first\",first)\n",
    "cv2.waitKey()\n",
    "cv2.destroyAllWindows()\n",
    "first.shape"
   ]
  },
  {
   "cell_type": "code",
   "execution_count": null,
   "id": "02dcc7bd",
   "metadata": {},
   "outputs": [],
   "source": [
    "second = cv2.imread(\"2.jpg\")\n",
    "cv2.imshow(\"second\",second)\n",
    "cv2.waitKey()\n",
    "cv2.destroyAllWindows()\n",
    "second.shape"
   ]
  },
  {
   "cell_type": "code",
   "execution_count": null,
   "id": "be51399d",
   "metadata": {
    "scrolled": true
   },
   "outputs": [],
   "source": [
    "crop_first = first[10:360,100:320]\n",
    "cv2.imshow(\"crop_first\",crop_first)\n",
    "cv2.waitKey()\n",
    "cv2.destroyAllWindows()"
   ]
  },
  {
   "cell_type": "code",
   "execution_count": null,
   "id": "cd14a022",
   "metadata": {},
   "outputs": [],
   "source": [
    "crop_second = second[0:350,100:320]\n",
    "cv2.imshow(\"crop_second\",crop_second)\n",
    "cv2.waitKey()\n",
    "cv2.destroyAllWindows()"
   ]
  },
  {
   "cell_type": "code",
   "execution_count": null,
   "id": "aaf44861",
   "metadata": {},
   "outputs": [],
   "source": [
    "second[10:360,100:320]=crop_first\n",
    "cv2.imshow(\"swap\",second)\n",
    "cv2.waitKey()\n",
    "cv2.destroyAllWindows()"
   ]
  }
 ],
 "metadata": {
  "kernelspec": {
   "name": "python385jvsc74a57bd0b3ba2566441a7c06988d0923437866b63cedc61552a5af99d1f4fb67d367b25f",
   "display_name": "Python 3.8.5 64-bit ('base': conda)"
  },
  "language_info": {
   "codemirror_mode": {
    "name": "ipython",
    "version": 3
   },
   "file_extension": ".py",
   "mimetype": "text/x-python",
   "name": "python",
   "nbconvert_exporter": "python",
   "pygments_lexer": "ipython3",
   "version": "3.8.5"
  },
  "metadata": {
   "interpreter": {
    "hash": "63fd5069d213b44bf678585dea6b12cceca9941eaf7f819626cde1f2670de90d"
   }
  }
 },
 "nbformat": 4,
 "nbformat_minor": 5
}